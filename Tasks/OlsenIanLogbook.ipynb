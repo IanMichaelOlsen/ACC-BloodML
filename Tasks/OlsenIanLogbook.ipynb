{
  "nbformat": 4,
  "nbformat_minor": 0,
  "metadata": {
    "colab": {
      "provenance": [],
      "toc_visible": true
    },
    "kernelspec": {
      "name": "python3",
      "display_name": "Python 3"
    },
    "language_info": {
      "name": "python"
    }
  },
  "cells": [
    {
      "cell_type": "markdown",
      "source": [
        "# **Data Analysis Logbook for ACC ML CS Club projects**\n",
        "\n",
        "## **Introduction**\n",
        "\n",
        "My name is Ian Olsen and this will be my log book to keep track of all data related to ML projects for Dr. Mohsin.\n",
        "\n",
        "## **Initial task**\n",
        "The first take is to perform an Exploratory Data Analysis (EDA) on a dataset related to housing. The purpose of this analysis is to gain insights into the data, clean the dataset, handle missing values, and prepare it for further modeling.\n",
        "\n",
        "\n",
        "1. **Initial Exploration**: Confirming the data types of each feature, checking for missing values, and visualizing the data to understand its distribution.\n",
        "2. **Data Cleaning**: Handling missing values by either dropping rows and/or columns or imputing them and converting categorical features into usable formats.\n",
        "3. **Correlation Analysis**: Checking for correlations between features and the target attribute to identify potential relationships.\n",
        "4. **Data Preparation**: Splitting the dataset into training and test sets for model evaluation.\n",
        "\n",
        "## **Dataset Description**\n",
        "\n",
        "The dataset used in this analysis contains information about various aspects of housing. Each row represents a different housing unit, and the columns include features such as:\n",
        "\n",
        "- **longitude**: The longitude of the housing unit's location\n",
        "- **latitude**: The latitude of the housing unit's location\n",
        "- **housing_median_age**: The median age of the houses in the area\n",
        "- **total_rooms**: The total number of rooms in the housing unit\n",
        "- **total_bedrooms**: The total number of bedrooms in the housing unit\n",
        "- **population**: The population of the area where the housing unit is located\n",
        "- **households**: The number of households in the area\n",
        "- **median_income**: The median income of the households in the area\n",
        "- **median_house_value**: The median value of the houses in the area\n",
        "- **ocean_proximity**: The proximity of the housing unit to the ocean (categorical feature)\n",
        "\n",
        "\n",
        "## **Objectives**\n",
        "\n",
        "The main objectives of this analysis are:\n",
        "- To understand the structure and distribution of the data.\n",
        "- To identify and handle missing values appropriately.\n",
        "- To encode categorical variables for model compatibility.\n",
        "- To explore relationships between features and a target variable.\n",
        "- To prepare the dataset for training a ML model.\n",
        "\n",
        "## **Tools and Libraries**\n",
        "\n",
        "We will be using the following tools and libraries to perform the analysis:\n",
        "- **Pandas**: For data manipulation and analysis\n",
        "- **NumPy**: For numerical operations\n",
        "- **Matplotlib & Seaborn**: For data visualization\n",
        "- **Scikit-Learn**: For data preprocessing and model evaluation\n",
        "\n",
        "## **Getting Started**\n",
        "\n",
        "To begin the analysis, we first need to load the necessary libraries and import the datasets(training and test) as needed.\n",
        "\n"
      ],
      "metadata": {
        "id": "rz6hZ1Iyq7jr"
      }
    },
    {
      "cell_type": "code",
      "execution_count": null,
      "metadata": {
        "id": "wLf1UBXqp7V0"
      },
      "outputs": [],
      "source": []
    }
  ]
}